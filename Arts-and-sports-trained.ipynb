{
 "cells": [
  {
   "cell_type": "code",
   "execution_count": 1,
   "metadata": {},
   "outputs": [],
   "source": [
    "import pandas as pd\n",
    "import tensorflow as tf\n",
    "from nltk.corpus import stopwords\n",
    "from bs4 import BeautifulSoup\n",
    "from nltk.tokenize import word_tokenize\n",
    "import re\n",
    "import numpy as np\n",
    "import matplotlib.pyplot as plt\n",
    "from sklearn.model_selection import train_test_split\n",
    "from nltk.stem import WordNetLemmatizer\n",
    "from tensorflow.python.keras.preprocessing.text import Tokenizer \n",
    "from tensorflow.python.keras.preprocessing.sequence import pad_sequences\n",
    "from tensorflow.python.keras.layers import Input, LSTM, Embedding, Dense, Concatenate, TimeDistributed, Bidirectional, CuDNNLSTM, Dropout\n",
    "from tensorflow.python.keras.models import Model\n",
    "from tensorflow.python.keras.callbacks import EarlyStopping\n",
    "from attention import AttentionLayer\n",
    "from itertools import chain\n",
    "import sys\n",
    "from beam_search import beam_search"
   ]
  },
  {
   "cell_type": "code",
   "execution_count": 2,
   "metadata": {},
   "outputs": [],
   "source": [
    "\n",
    "#gpu_options = tf.GPUOptions(per_process_gpu_memory_fraction=0.333)\n",
    "\n",
    "#sess = tf.Session(config=tf.ConfigProto(gpu_options=gpu_options))"
   ]
  },
  {
   "cell_type": "code",
   "execution_count": 2,
   "metadata": {},
   "outputs": [],
   "source": [
    "df = pd.read_csv('arts_and_sports.csv')"
   ]
  },
  {
   "cell_type": "code",
   "execution_count": 3,
   "metadata": {},
   "outputs": [
    {
     "data": {
      "text/plain": [
       "(3148, 5)"
      ]
     },
     "execution_count": 3,
     "metadata": {},
     "output_type": "execute_result"
    }
   ],
   "source": [
    "df.shape #Before cleaning"
   ]
  },
  {
   "cell_type": "code",
   "execution_count": 4,
   "metadata": {},
   "outputs": [],
   "source": [
    "#Data cleaning\n",
    "df.drop_duplicates(subset=['text'],inplace=True)\n",
    "df.dropna(axis=0,inplace=True)"
   ]
  },
  {
   "cell_type": "code",
   "execution_count": 5,
   "metadata": {},
   "outputs": [
    {
     "data": {
      "text/plain": [
       "(3113, 5)"
      ]
     },
     "execution_count": 5,
     "metadata": {},
     "output_type": "execute_result"
    }
   ],
   "source": [
    "df.shape #After cleaning"
   ]
  },
  {
   "cell_type": "code",
   "execution_count": 6,
   "metadata": {},
   "outputs": [],
   "source": [
    "#data preprocessing\n",
    "contraction_mapping = {\"ain't\": \"is not\", \"aren't\": \"are not\",\"can't\": \"cannot\", \"'cause\": \"because\", \"could've\": \"could have\", \"couldn't\": \"could not\",\n",
    "\n",
    "                           \"didn't\": \"did not\", \"doesn't\": \"does not\", \"don't\": \"do not\", \"hadn't\": \"had not\", \"hasn't\": \"has not\", \"haven't\": \"have not\",\n",
    "\n",
    "                           \"he'd\": \"he would\",\"he'll\": \"he will\", \"he's\": \"he is\", \"how'd\": \"how did\", \"how'd'y\": \"how do you\", \"how'll\": \"how will\", \"how's\": \"how is\",\n",
    "\n",
    "                           \"I'd\": \"I would\", \"I'd've\": \"I would have\", \"I'll\": \"I will\", \"I'll've\": \"I will have\",\"I'm\": \"I am\", \"I've\": \"I have\", \"i'd\": \"i would\",\n",
    "\n",
    "                           \"i'd've\": \"i would have\", \"i'll\": \"i will\",  \"i'll've\": \"i will have\",\"i'm\": \"i am\", \"i've\": \"i have\", \"isn't\": \"is not\", \"it'd\": \"it would\",\n",
    "\n",
    "                           \"it'd've\": \"it would have\", \"it'll\": \"it will\", \"it'll've\": \"it will have\",\"it's\": \"it is\", \"let's\": \"let us\", \"ma'am\": \"madam\",\n",
    "\n",
    "                           \"mayn't\": \"may not\", \"might've\": \"might have\",\"mightn't\": \"might not\",\"mightn't've\": \"might not have\", \"must've\": \"must have\",\n",
    "\n",
    "                           \"mustn't\": \"must not\", \"mustn't've\": \"must not have\", \"needn't\": \"need not\", \"needn't've\": \"need not have\",\"o'clock\": \"of the clock\",\n",
    "\n",
    "                           \"oughtn't\": \"ought not\", \"oughtn't've\": \"ought not have\", \"shan't\": \"shall not\", \"sha'n't\": \"shall not\", \"shan't've\": \"shall not have\",\n",
    "\n",
    "                           \"she'd\": \"she would\", \"she'd've\": \"she would have\", \"she'll\": \"she will\", \"she'll've\": \"she will have\", \"she's\": \"she is\",\n",
    "\n",
    "                           \"should've\": \"should have\", \"shouldn't\": \"should not\", \"shouldn't've\": \"should not have\", \"so've\": \"so have\",\"so's\": \"so as\",\n",
    "\n",
    "                           \"this's\": \"this is\",\"that'd\": \"that would\", \"that'd've\": \"that would have\", \"that's\": \"that is\", \"there'd\": \"there would\",\n",
    "\n",
    "                           \"there'd've\": \"there would have\", \"there's\": \"there is\", \"here's\": \"here is\",\"they'd\": \"they would\", \"they'd've\": \"they would have\",\n",
    "\n",
    "                           \"they'll\": \"they will\", \"they'll've\": \"they will have\", \"they're\": \"they are\", \"they've\": \"they have\", \"to've\": \"to have\",\n",
    "\n",
    "                           \"wasn't\": \"was not\", \"we'd\": \"we would\", \"we'd've\": \"we would have\", \"we'll\": \"we will\", \"we'll've\": \"we will have\", \"we're\": \"we are\",\n",
    "\n",
    "                           \"we've\": \"we have\", \"weren't\": \"were not\", \"what'll\": \"what will\", \"what'll've\": \"what will have\", \"what're\": \"what are\",\n",
    "\n",
    "                           \"what's\": \"what is\", \"what've\": \"what have\", \"when's\": \"when is\", \"when've\": \"when have\", \"where'd\": \"where did\", \"where's\": \"where is\",\n",
    "\n",
    "                           \"where've\": \"where have\", \"who'll\": \"who will\", \"who'll've\": \"who will have\", \"who's\": \"who is\", \"who've\": \"who have\",\n",
    "\n",
    "                           \"why's\": \"why is\", \"why've\": \"why have\", \"will've\": \"will have\", \"won't\": \"will not\", \"won't've\": \"will not have\",\n",
    "\n",
    "                           \"would've\": \"would have\", \"wouldn't\": \"would not\", \"wouldn't've\": \"would not have\", \"y'all\": \"you all\",\n",
    "\n",
    "                           \"y'all'd\": \"you all would\",\"y'all'd've\": \"you all would have\",\"y'all're\": \"you all are\",\"y'all've\": \"you all have\",\n",
    "\n",
    "                           \"you'd\": \"you would\", \"you'd've\": \"you would have\", \"you'll\": \"you will\", \"you'll've\": \"you will have\",\n",
    "\n",
    "                           \"you're\": \"you are\", \"you've\": \"you have\"}"
   ]
  },
  {
   "cell_type": "code",
   "execution_count": 7,
   "metadata": {},
   "outputs": [],
   "source": [
    "#All credits to preprocessing stage goes to https://www.analyticsvidhya.com/blog/2019/06/comprehensive-guide-text-summarization-using-deep-learning-python/\n",
    "stop_words = set(stopwords.words('english'))\n",
    "lemmatizer = WordNetLemmatizer()\n",
    "def text_cleaner(text):\n",
    "    newString = text.lower()\n",
    "    newString = BeautifulSoup(newString, \"html.parser\").text\n",
    "    newString = re.sub(r'\\([^)]*\\)', '', newString)\n",
    "    newString = re.sub('\"','', newString)\n",
    "    newString = ' '.join([contraction_mapping[t] if t in contraction_mapping else t for t in newString.split(\" \")])    \n",
    "    newString = re.sub(r\"'s\\b\",\"\",newString)\n",
    "    newString = re.sub(\"[^a-zA-Z]\", \" \", newString) \n",
    "    tokens = [w for w in newString.split() if not w in stop_words]\n",
    "    long_words=[]\n",
    "    for i in tokens:\n",
    "        if len(i)>=3:                 \n",
    "            long_words.append(i)   \n",
    "    return (\" \".join(long_words)).strip()\n",
    "\n",
    "cleaned_text = []\n",
    "for t in df['text']:\n",
    "    cleaned_text.append(text_cleaner(t))"
   ]
  },
  {
   "cell_type": "code",
   "execution_count": 8,
   "metadata": {},
   "outputs": [],
   "source": [
    "def headline_cleaner(text):\n",
    "    newString = re.sub('\"','', text)\n",
    "    newString = ' '.join([contraction_mapping[t] if t in contraction_mapping else t for t in newString.split(\" \")])    \n",
    "    newString = re.sub(r\"'s\\b\",\"\",newString)\n",
    "    newString = re.sub(\"[^a-zA-Z]\", \" \", newString)\n",
    "    newString = newString.lower()\n",
    "    tokens=newString.split()\n",
    "    newString=''\n",
    "    for i in tokens:\n",
    "        if len(i)>1:                                 \n",
    "            newString=newString+i+' '  \n",
    "    return newString\n",
    "\n",
    "\n",
    "cleaned_headline = []\n",
    "for t in df['title']:\n",
    "    cleaned_headline.append(headline_cleaner(t))"
   ]
  },
  {
   "cell_type": "code",
   "execution_count": 9,
   "metadata": {},
   "outputs": [],
   "source": [
    "df['cleaned text'] = cleaned_text\n",
    "df['cleaned headline'] = cleaned_headline\n",
    "df['cleaned headline'].replace('', np.nan, inplace=True)\n",
    "df.dropna(axis=0,inplace=True)\n",
    "df['cleaned headline'] = df['cleaned headline'].apply(lambda x : '_START_ '+ x + ' _END_')"
   ]
  },
  {
   "cell_type": "code",
   "execution_count": 10,
   "metadata": {},
   "outputs": [
    {
     "data": {
      "text/html": [
       "<div>\n",
       "<style scoped>\n",
       "    .dataframe tbody tr th:only-of-type {\n",
       "        vertical-align: middle;\n",
       "    }\n",
       "\n",
       "    .dataframe tbody tr th {\n",
       "        vertical-align: top;\n",
       "    }\n",
       "\n",
       "    .dataframe thead th {\n",
       "        text-align: right;\n",
       "    }\n",
       "</style>\n",
       "<table border=\"1\" class=\"dataframe\">\n",
       "  <thead>\n",
       "    <tr style=\"text-align: right;\">\n",
       "      <th></th>\n",
       "      <th>link</th>\n",
       "      <th>title</th>\n",
       "      <th>date</th>\n",
       "      <th>author</th>\n",
       "      <th>text</th>\n",
       "      <th>cleaned text</th>\n",
       "      <th>cleaned headline</th>\n",
       "    </tr>\n",
       "  </thead>\n",
       "  <tbody>\n",
       "    <tr>\n",
       "      <th>0</th>\n",
       "      <td>https://www.nytimes.com/2018/12/05/books/the-w...</td>\n",
       "      <td>The Way We Read \\n</td>\n",
       "      <td>2018-12-05\\n</td>\n",
       "      <td>Erica Ackerberg\\n</td>\n",
       "      <td>Donald and Patricia Oresman's New York City ho...</td>\n",
       "      <td>donald patricia oresman new york city home des...</td>\n",
       "      <td>_START_ the way we read  _END_</td>\n",
       "    </tr>\n",
       "    <tr>\n",
       "      <th>1</th>\n",
       "      <td>https://www.nytimes.com/2018/12/07/books/revie...</td>\n",
       "      <td>Colm Toibin on the Fathers of Geniuses \\n</td>\n",
       "      <td>2018-12-07\\n</td>\n",
       "      <td>Gregory Cowles\\n</td>\n",
       "      <td>MAD, BAD, DANGEROUS TO KNOW The Fathers of Wil...</td>\n",
       "      <td>mad bad dangerous know fathers wilde yeats joy...</td>\n",
       "      <td>_START_ colm toibin on the fathers of geniuses...</td>\n",
       "    </tr>\n",
       "    <tr>\n",
       "      <th>2</th>\n",
       "      <td>https://www.nytimes.com/2018/12/21/world/afric...</td>\n",
       "      <td>Guitarist Has Brain Surgery, and Strums All th...</td>\n",
       "      <td>2018-12-21\\n</td>\n",
       "      <td>Kimon de Greef\\n</td>\n",
       "      <td>CAPE TOWN - A musician from South Africa had a...</td>\n",
       "      <td>cape town musician south africa tumor brain do...</td>\n",
       "      <td>_START_ guitarist has brain surgery and strums...</td>\n",
       "    </tr>\n",
       "    <tr>\n",
       "      <th>3</th>\n",
       "      <td>https://www.nytimes.com/2019/01/17/movies/film...</td>\n",
       "      <td>4 Film Series to Catch in N.Y.C. This Weekend \\n</td>\n",
       "      <td>2019-01-17\\n</td>\n",
       "      <td>Ben Kenigsberg\\n</td>\n",
       "      <td>Our guide to film series and special screening...</td>\n",
       "      <td>guide film series special screenings happening...</td>\n",
       "      <td>_START_ film series to catch in this weekend  ...</td>\n",
       "    </tr>\n",
       "    <tr>\n",
       "      <th>4</th>\n",
       "      <td>https://www.nytimes.com/2018/12/03/arts/music/...</td>\n",
       "      <td>Review: Exploring Langston Hughes in Song, Loc...</td>\n",
       "      <td>2018-12-03\\n</td>\n",
       "      <td>Zachary Woolfe\\n</td>\n",
       "      <td>On the morning of July 16, 1964, James Powell,...</td>\n",
       "      <td>morning july james powell year old black stude...</td>\n",
       "      <td>_START_ review exploring langston hughes in so...</td>\n",
       "    </tr>\n",
       "  </tbody>\n",
       "</table>\n",
       "</div>"
      ],
      "text/plain": [
       "                                                link  \\\n",
       "0  https://www.nytimes.com/2018/12/05/books/the-w...   \n",
       "1  https://www.nytimes.com/2018/12/07/books/revie...   \n",
       "2  https://www.nytimes.com/2018/12/21/world/afric...   \n",
       "3  https://www.nytimes.com/2019/01/17/movies/film...   \n",
       "4  https://www.nytimes.com/2018/12/03/arts/music/...   \n",
       "\n",
       "                                               title          date  \\\n",
       "0                                 The Way We Read \\n  2018-12-05\\n   \n",
       "1          Colm Toibin on the Fathers of Geniuses \\n  2018-12-07\\n   \n",
       "2  Guitarist Has Brain Surgery, and Strums All th...  2018-12-21\\n   \n",
       "3   4 Film Series to Catch in N.Y.C. This Weekend \\n  2019-01-17\\n   \n",
       "4  Review: Exploring Langston Hughes in Song, Loc...  2018-12-03\\n   \n",
       "\n",
       "              author                                               text  \\\n",
       "0  Erica Ackerberg\\n  Donald and Patricia Oresman's New York City ho...   \n",
       "1   Gregory Cowles\\n  MAD, BAD, DANGEROUS TO KNOW The Fathers of Wil...   \n",
       "2   Kimon de Greef\\n  CAPE TOWN - A musician from South Africa had a...   \n",
       "3   Ben Kenigsberg\\n  Our guide to film series and special screening...   \n",
       "4   Zachary Woolfe\\n  On the morning of July 16, 1964, James Powell,...   \n",
       "\n",
       "                                        cleaned text  \\\n",
       "0  donald patricia oresman new york city home des...   \n",
       "1  mad bad dangerous know fathers wilde yeats joy...   \n",
       "2  cape town musician south africa tumor brain do...   \n",
       "3  guide film series special screenings happening...   \n",
       "4  morning july james powell year old black stude...   \n",
       "\n",
       "                                    cleaned headline  \n",
       "0                     _START_ the way we read  _END_  \n",
       "1  _START_ colm toibin on the fathers of geniuses...  \n",
       "2  _START_ guitarist has brain surgery and strums...  \n",
       "3  _START_ film series to catch in this weekend  ...  \n",
       "4  _START_ review exploring langston hughes in so...  "
      ]
     },
     "execution_count": 10,
     "metadata": {},
     "output_type": "execute_result"
    }
   ],
   "source": [
    "df.head()"
   ]
  },
  {
   "cell_type": "code",
   "execution_count": 11,
   "metadata": {},
   "outputs": [
    {
     "data": {
      "image/png": "[encoded data removed]",
      "text/plain": [
       "<Figure size 432x288 with 2 Axes>"
      ]
     },
     "metadata": {
      "needs_background": "light"
     },
     "output_type": "display_data"
    }
   ],
   "source": [
    "#data analysis\n",
    "#compute text length\n",
    "text_word_counts = []\n",
    "headline_word_counts = []\n",
    "for i in df['cleaned text']:\n",
    "    text_word_counts.append(len(i.split()))\n",
    "    \n",
    "for i in df['cleaned headline']:\n",
    "    headline_word_counts.append(len(i.split()))\n",
    "\n",
    "length_df = pd.DataFrame({'text':text_word_counts, 'headline':headline_word_counts})\n",
    "length_df.hist(bins = 30)\n",
    "plt.show()"
   ]
  },
  {
   "cell_type": "code",
   "execution_count": 12,
   "metadata": {},
   "outputs": [],
   "source": [
    "max_headline_length = 22\n",
    "max_text_length = 1500  #a majority of texts are below 1500 with several outliers, so we set max text length to 1500\n"
   ]
  },
  {
   "cell_type": "code",
   "execution_count": 13,
   "metadata": {},
   "outputs": [],
   "source": [
    "x_train, x_test, y_train, y_test = train_test_split(list(df['cleaned text']), list(df['cleaned headline']), random_state = 0, shuffle = True)"
   ]
  },
  {
   "cell_type": "code",
   "execution_count": 14,
   "metadata": {},
   "outputs": [],
   "source": [
    "#text tokenization. Credits go to https://www.analyticsvidhya.com/blog/2019/06/comprehensive-guide-text-summarization-using-deep-learning-python/\n",
    "\n",
    "x_tokenizer = Tokenizer()\n",
    "x_tokenizer.fit_on_texts(list(x_train))\n",
    "\n",
    "\n",
    "x_train =  x_tokenizer.texts_to_sequences(x_train) \n",
    "x_test = x_tokenizer.texts_to_sequences(x_test)\n",
    "\n",
    "\n",
    "x_train = pad_sequences(x_train,  maxlen=max_text_length, padding='post') \n",
    "x_test = pad_sequences(x_test, maxlen=max_text_length, padding='post')\n",
    "\n",
    "x_voc_size = len(x_tokenizer.word_index) +1\n"
   ]
  },
  {
   "cell_type": "code",
   "execution_count": 15,
   "metadata": {},
   "outputs": [],
   "source": [
    "y_tokenizer = Tokenizer()\n",
    "y_tokenizer.fit_on_texts(list(y_train))\n",
    "\n",
    "y_train =  y_tokenizer.texts_to_sequences(y_train) \n",
    "y_test =  y_tokenizer.texts_to_sequences(y_test) \n",
    "\n",
    "y_train =  pad_sequences(y_train, maxlen=max_headline_length, padding='post')\n",
    "y_test =  pad_sequences(y_test, maxlen=max_headline_length, padding='post')\n",
    "\n",
    "y_voc_size = len(y_tokenizer.word_index) +1"
   ]
  },
  {
   "cell_type": "code",
   "execution_count": 27,
   "metadata": {},
   "outputs": [
    {
     "name": "stdout",
     "output_type": "stream",
     "text": [
      "encoder outputs shape:  (?, 1500, 300)\n",
      "decoder outputs shape:  (?, ?, 300)\n",
      "Model: \"model\"\n",
      "__________________________________________________________________________________________________\n",
      "Layer (type)                    Output Shape         Param #     Connected to                     \n",
      "==================================================================================================\n",
      "input_2 (InputLayer)            [(None, None)]       0                                            \n",
      "__________________________________________________________________________________________________\n",
      "input_1 (InputLayer)            [(None, 1500)]       0                                            \n",
      "__________________________________________________________________________________________________\n",
      "embedding_1 (Embedding)         (None, None, 300)    1758900     input_2[0][0]                    \n",
      "__________________________________________________________________________________________________\n",
      "embedding (Embedding)           (None, 1500, 300)    17101800    input_1[0][0]                    \n",
      "__________________________________________________________________________________________________\n",
      "dropout (Dropout)               multiple             0           embedding[0][0]                  \n",
      "                                                                 cu_dnnlstm[0][0]                 \n",
      "                                                                 embedding_1[0][0]                \n",
      "__________________________________________________________________________________________________\n",
      "cu_dnnlstm (CuDNNLSTM)          [(None, 1500, 300),  722400      dropout[0][0]                    \n",
      "__________________________________________________________________________________________________\n",
      "cu_dnnlstm_1 (CuDNNLSTM)        [(None, 1500, 300),  722400      dropout[1][0]                    \n",
      "__________________________________________________________________________________________________\n",
      "cu_dnnlstm_2 (CuDNNLSTM)        [(None, None, 300),  722400      dropout[2][0]                    \n",
      "                                                                 cu_dnnlstm_1[0][1]               \n",
      "                                                                 cu_dnnlstm_1[0][2]               \n",
      "__________________________________________________________________________________________________\n",
      "attention_layer (AttentionLayer ((None, None, 300),  180300      cu_dnnlstm_1[0][0]               \n",
      "                                                                 cu_dnnlstm_2[0][0]               \n",
      "__________________________________________________________________________________________________\n",
      "concat_layer (Concatenate)      (None, None, 600)    0           cu_dnnlstm_2[0][0]               \n",
      "                                                                 attention_layer[0][0]            \n",
      "__________________________________________________________________________________________________\n",
      "time_distributed (TimeDistribut (None, None, 5863)   3523663     concat_layer[0][0]               \n",
      "==================================================================================================\n",
      "Total params: 24,731,863\n",
      "Trainable params: 24,731,863\n",
      "Non-trainable params: 0\n",
      "__________________________________________________________________________________________________\n"
     ]
    }
   ],
   "source": [
    "from tensorflow.python.keras import backend as K \n",
    "K.clear_session() \n",
    "latent_dim = 300 \n",
    "\n",
    "# Encoder \n",
    "encoder_inputs = Input(shape=(max_text_length,)) \n",
    "enc_emb = Embedding(x_voc_size, latent_dim,trainable=True)(encoder_inputs) \n",
    "dropout = Dropout(0.2)\n",
    "enc_emb = dropout(enc_emb)\n",
    "\n",
    "\n",
    "encoder_lstm1 = CuDNNLSTM(latent_dim,return_sequences=True,return_state=True) \n",
    "encoder_output1, state_h1, state_c1 = encoder_lstm1(enc_emb)\n",
    "\n",
    "\n",
    "encoder_output1 = dropout(encoder_output1)\n",
    "\n",
    "\n",
    "encoder_lstm2 = CuDNNLSTM(latent_dim,return_sequences=True,return_state=True) \n",
    "encoder_outputs, state_h, state_c = encoder_lstm2(encoder_output1) \n",
    "\n",
    "# Decoder. \n",
    "decoder_inputs = Input(shape=(None,)) \n",
    "dec_emb_layer = Embedding(y_voc_size, latent_dim,trainable=True) \n",
    "dec_emb = dec_emb_layer(decoder_inputs) \n",
    "dec_emb = dropout(dec_emb)\n",
    "\n",
    "#LSTM \n",
    "decoder_lstm = CuDNNLSTM(latent_dim, return_sequences=True, return_state=True) \n",
    "decoder_outputs,decoder_fwd_state, decoder_back_state = decoder_lstm(dec_emb,initial_state=[state_h, state_c]) \n",
    "\n",
    "#Attention Layer\n",
    "attn_layer = AttentionLayer(name='attention_layer') \n",
    "attn_out, attn_states = attn_layer([encoder_outputs, decoder_outputs]) \n",
    "\n",
    "# Concat attention output and decoder LSTM output \n",
    "decoder_concat_input = Concatenate(axis=-1, name='concat_layer')([decoder_outputs, attn_out])\n",
    "\n",
    "#Dense layer\n",
    "decoder_dense = TimeDistributed(Dense(y_voc_size, activation='softmax')) \n",
    "decoder_outputs = decoder_dense(decoder_concat_input) \n",
    "\n",
    "# Define the model\n",
    "model = Model([encoder_inputs, decoder_inputs], decoder_outputs) \n",
    "\n",
    "model.summary()"
   ]
  },
  {
   "cell_type": "code",
   "execution_count": 28,
   "metadata": {},
   "outputs": [],
   "source": [
    "model.compile(optimizer='adam', loss='sparse_categorical_crossentropy', metrics=['accuracy'])"
   ]
  },
  {
   "cell_type": "code",
   "execution_count": 29,
   "metadata": {},
   "outputs": [],
   "source": [
    "es = EarlyStopping(monitor='val_loss', mode='min', verbose=1)"
   ]
  },
  {
   "cell_type": "code",
   "execution_count": 30,
   "metadata": {},
   "outputs": [
    {
     "name": "stdout",
     "output_type": "stream",
     "text": [
      "Train on 2334 samples, validate on 779 samples\n",
      "Epoch 1/20\n",
      "2334/2334 [==============================] - 26s 11ms/sample - loss: 5.3727 - acc: 0.4825 - val_loss: 2.9491 - val_acc: 0.5733\n",
      "Epoch 2/20\n",
      "2334/2334 [==============================] - 23s 10ms/sample - loss: 3.6047 - acc: 0.5167 - val_loss: 2.8397 - val_acc: 0.6008\n",
      "Epoch 3/20\n",
      "2334/2334 [==============================] - 23s 10ms/sample - loss: 3.4650 - acc: 0.5337 - val_loss: 2.7432 - val_acc: 0.6242\n",
      "Epoch 4/20\n",
      "2334/2334 [==============================] - 23s 10ms/sample - loss: 3.3597 - acc: 0.5621 - val_loss: 2.6937 - val_acc: 0.6330\n",
      "Epoch 5/20\n",
      "2334/2334 [==============================] - 23s 10ms/sample - loss: 3.3072 - acc: 0.5697 - val_loss: 2.6798 - val_acc: 0.6349\n",
      "Epoch 6/20\n",
      "2334/2334 [==============================] - 23s 10ms/sample - loss: 3.2698 - acc: 0.5717 - val_loss: 2.6860 - val_acc: 0.6321\n",
      "Epoch 7/20\n",
      "2334/2334 [==============================] - 23s 10ms/sample - loss: 3.2375 - acc: 0.5728 - val_loss: 2.6910 - val_acc: 0.6326\n",
      "Epoch 8/20\n",
      "2334/2334 [==============================] - 23s 10ms/sample - loss: 3.2383 - acc: 0.5727 - val_loss: 2.7311 - val_acc: 0.6270\n",
      "Epoch 9/20\n",
      "2334/2334 [==============================] - 23s 10ms/sample - loss: 3.2250 - acc: 0.5733 - val_loss: 2.7514 - val_acc: 0.6298\n",
      "Epoch 10/20\n",
      "2334/2334 [==============================] - 23s 10ms/sample - loss: 3.1912 - acc: 0.5746 - val_loss: 2.7122 - val_acc: 0.6310\n",
      "Epoch 11/20\n",
      "2334/2334 [==============================] - 23s 10ms/sample - loss: 3.0837 - acc: 0.5784 - val_loss: 2.6989 - val_acc: 0.6313\n",
      "Epoch 12/20\n",
      "2334/2334 [==============================] - 23s 10ms/sample - loss: 3.0187 - acc: 0.5804 - val_loss: 2.7126 - val_acc: 0.6305\n",
      "Epoch 13/20\n",
      "2334/2334 [==============================] - 23s 10ms/sample - loss: 2.9671 - acc: 0.5817 - val_loss: 2.7206 - val_acc: 0.6305\n",
      "Epoch 14/20\n",
      "2334/2334 [==============================] - 23s 10ms/sample - loss: 2.9218 - acc: 0.5855 - val_loss: 2.7346 - val_acc: 0.6345\n",
      "Epoch 15/20\n",
      "2334/2334 [==============================] - 23s 10ms/sample - loss: 2.8775 - acc: 0.5878 - val_loss: 2.7373 - val_acc: 0.6365\n",
      "Epoch 16/20\n",
      "2334/2334 [==============================] - 23s 10ms/sample - loss: 2.8375 - acc: 0.5889 - val_loss: 2.7533 - val_acc: 0.6358\n",
      "Epoch 17/20\n",
      "2334/2334 [==============================] - 23s 10ms/sample - loss: 2.7989 - acc: 0.5907 - val_loss: 2.7564 - val_acc: 0.6370\n",
      "Epoch 18/20\n",
      "2334/2334 [==============================] - 23s 10ms/sample - loss: 2.7597 - acc: 0.5918 - val_loss: 2.7712 - val_acc: 0.6367\n",
      "Epoch 19/20\n",
      "2334/2334 [==============================] - 23s 10ms/sample - loss: 2.7230 - acc: 0.5935 - val_loss: 2.7724 - val_acc: 0.6378\n",
      "Epoch 20/20\n",
      "2334/2334 [==============================] - 23s 10ms/sample - loss: 2.6852 - acc: 0.5954 - val_loss: 2.7860 - val_acc: 0.6387\n"
     ]
    }
   ],
   "source": [
    "history=model.fit([x_train,y_train[:,:-1]], y_train.reshape(y_train.shape[0],y_train.shape[1], 1)[:,1:] ,epochs=20,batch_size=128, validation_data=([x_test,y_test[:,:-1]], y_test.reshape(y_test.shape[0],y_test.shape[1], 1)[:,1:]))\n"
   ]
  },
  {
   "cell_type": "code",
   "execution_count": 33,
   "metadata": {},
   "outputs": [
    {
     "data": {
      "image/png": "[encoded data removed]",
      "text/plain": [
       "<Figure size 432x288 with 1 Axes>"
      ]
     },
     "metadata": {
      "needs_background": "light"
     },
     "output_type": "display_data"
    }
   ],
   "source": [
    "from matplotlib import pyplot \n",
    "pyplot.plot(history.history['loss'], label='train') \n",
    "pyplot.plot(history.history['val_loss'], label='test') \n",
    "pyplot.legend() \n",
    "pyplot.show()"
   ]
  },
  {
   "cell_type": "code",
   "execution_count": 35,
   "metadata": {},
   "outputs": [
    {
     "data": {
      "image/png": "[encoded data removed]",
      "text/plain": [
       "<Figure size 432x288 with 1 Axes>"
      ]
     },
     "metadata": {
      "needs_background": "light"
     },
     "output_type": "display_data"
    }
   ],
   "source": [
    "pyplot.plot(history.history['acc'], label='train acc') \n",
    "pyplot.plot(history.history['val_acc'], label='test acc') \n",
    "pyplot.legend() \n",
    "pyplot.show()"
   ]
  },
  {
   "cell_type": "code",
   "execution_count": 36,
   "metadata": {},
   "outputs": [],
   "source": [
    "reverse_target_word_index=y_tokenizer.index_word \n",
    "reverse_source_word_index=x_tokenizer.index_word \n",
    "target_word_index=y_tokenizer.word_index"
   ]
  },
  {
   "cell_type": "code",
   "execution_count": 38,
   "metadata": {},
   "outputs": [],
   "source": [
    "#Credits for the inference model goes to https://www.analyticsvidhya.com/blog/2019/06/comprehensive-guide-text-summarization-using-deep-learning-python/\n",
    "\n",
    "encoder_model = Model(inputs=encoder_inputs,outputs=[encoder_outputs, state_h, state_c])\n",
    "\n",
    "# decoder inference\n",
    "# Below tensors will hold the states of the previous time step\n",
    "decoder_state_input_h = Input(shape=(latent_dim,))\n",
    "decoder_state_input_c = Input(shape=(latent_dim,))\n",
    "decoder_hidden_state_input = Input(shape=(max_text_length,latent_dim))\n",
    "\n",
    "# Get the embeddings of the decoder sequence\n",
    "dec_emb2= dec_emb_layer(decoder_inputs)\n",
    "\n",
    "# To predict the next word in the sequence, set the initial states to the states from the previous time step\n",
    "decoder_outputs2, state_h2, state_c2 = decoder_lstm(dec_emb2, initial_state=[decoder_state_input_h, decoder_state_input_c])\n",
    "\n",
    "#attention inference\n",
    "attn_out_inf, attn_states_inf = attn_layer([decoder_hidden_state_input, decoder_outputs2])\n",
    "decoder_inf_concat = Concatenate(axis=-1, name='concat')([decoder_outputs2, attn_out_inf])\n",
    "\n",
    "# A dense softmax layer to generate prob dist. over the target vocabulary\n",
    "decoder_outputs2 = decoder_dense(decoder_inf_concat)\n",
    "\n",
    "# Final decoder model\n",
    "decoder_model = Model(\n",
    "[decoder_inputs] + [decoder_hidden_state_input,decoder_state_input_h, decoder_state_input_c],\n",
    "[decoder_outputs2] + [state_h2, state_c2])"
   ]
  },
  {
   "cell_type": "code",
   "execution_count": 39,
   "metadata": {},
   "outputs": [],
   "source": [
    "np.set_printoptions(threshold=sys.maxsize)"
   ]
  },
  {
   "cell_type": "code",
   "execution_count": 40,
   "metadata": {},
   "outputs": [],
   "source": [
    "def decode_sequence(input_seq):\n",
    "    # Encode the input as state vectors.\n",
    "    e_out, e_h, e_c = encoder_model.predict(input_seq)\n",
    "\n",
    "    # Generate empty target sequence of length 1.\n",
    "    target_seq = np.zeros((1,1))\n",
    "\n",
    "    # Chose the 'start' word as the first word of the target sequence\n",
    "    target_seq[0, 0] = target_word_index['start']\n",
    "    \n",
    "    stop_condition = False\n",
    "    decoded_sentence = ''\n",
    "    while not stop_condition:\n",
    "        output_tokens, h, c = decoder_model.predict([target_seq] + [e_out, e_h, e_c])\n",
    "        #output tokens should be fine\n",
    "        \n",
    "        # Sample a token\n",
    "        sampled_token_index = np.argmax(output_tokens[0, -1, :])\n",
    "        \n",
    "        sampled_token = reverse_target_word_index[sampled_token_index]\n",
    "        #print(sampled_token_index)\n",
    "        if(sampled_token!='end'):\n",
    "            decoded_sentence += ' '+sampled_token\n",
    "            \n",
    "\n",
    "            # Exit condition: either hit max length or find stop word.\n",
    "        if (sampled_token == 'end' or len(decoded_sentence.split()) >= (max_headline_length-1)):      \n",
    "            stop_condition = True\n",
    "            #print (output_tokens)\n",
    "            \n",
    "            \n",
    "        # Update the target sequence (of length 1).\n",
    "        target_seq = np.zeros((1,1))\n",
    "        target_seq[0, 0] = sampled_token_index\n",
    "\n",
    "        # Update internal states\n",
    "        e_h, e_c = h, c\n",
    "\n",
    "    return decoded_sentence"
   ]
  },
  {
   "cell_type": "code",
   "execution_count": 41,
   "metadata": {},
   "outputs": [],
   "source": [
    "def seq2summary(input_seq):\n",
    "    newString=''\n",
    "    for i in input_seq:\n",
    "      if((i!=0 and i!=target_word_index['start']) and i!=target_word_index['end']):\n",
    "        newString=newString+reverse_target_word_index[i]+' '\n",
    "    return newString\n",
    "\n",
    "def seq2text(input_seq):\n",
    "    newString=''\n",
    "    for i in input_seq:\n",
    "      if(i!=0):\n",
    "        newString=newString+reverse_source_word_index[i]+' '\n",
    "    return newString"
   ]
  },
  {
   "cell_type": "code",
   "execution_count": 42,
   "metadata": {
    "scrolled": false
   },
   "outputs": [
    {
     "name": "stdout",
     "output_type": "stream",
     "text": [
      "Original headline: what on tv friday fyre and grace and frankie \n",
      "Predicted headline:  the best best the the the open\n",
      "\n",
      "\n",
      "Original headline: renaissance style experts in on of centuries past \n",
      "Predicted headline:  the best best the the the open\n",
      "\n",
      "\n",
      "Original headline: paxton and davis once are suddenly \n",
      "Predicted headline:  the best best weekend\n",
      "\n",
      "\n",
      "Original headline: of our best weekend reads \n",
      "Predicted headline:  the best best weekend\n",
      "\n",
      "\n",
      "Original headline: review an look at an \n",
      "Predicted headline:  the the the the the the the the the the the the the the the the the the the the the\n",
      "\n",
      "\n",
      "Original headline: she left tennis in now patty is back at the open \n",
      "Predicted headline:  the the the the the the the the the the the the the the the the the the the the the\n",
      "\n",
      "\n",
      "Original headline: brewers and dodgers claim division titles in game no \n",
      "Predicted headline:  the the the the the the the the the the the the the the the the the the the the the\n",
      "\n",
      "\n",
      "Original headline: playing golf tiger woods feels different now \n",
      "Predicted headline:  the the the the the the the the the the the the the the the the the the the the the\n",
      "\n",
      "\n",
      "Original headline: how fear of penalty might have cost the chiefs the game \n",
      "Predicted headline:  what on tv tv tv the the sox of the open of the open\n",
      "\n",
      "\n",
      "Original headline: dave anderson an to legend voice \n",
      "Predicted headline:  the best best weekend\n",
      "\n",
      "\n",
      "Original headline: fresh look at how poets over the course of career \n",
      "Predicted headline:  what on tv tv tv the the sox and the sox of the open\n",
      "\n",
      "\n",
      "Original headline: alex cora the red sox and inspires boston puerto \n",
      "Predicted headline:  the best best weekend\n",
      "\n",
      "\n",
      "Original headline: daniel murphy with mets and tries to move past comments on gay players \n",
      "Predicted headline:  the the the the the the the the the the the the the the the the the the the the the\n",
      "\n",
      "\n",
      "Original headline: classical music concerts to see in this weekend \n",
      "Predicted headline:  the best best weekend\n",
      "\n",
      "\n",
      "Original headline: the civil rights movement photographer who was also an \n",
      "Predicted headline:  the the the the the the the the the the the the the the the the the the the the the\n",
      "\n",
      "\n",
      "Original headline: by the book \n",
      "Predicted headline:  the the the the the the the the the the the the the the the the the the the the the\n",
      "\n",
      "\n",
      "Original headline: tiger woods and phil mickelson look to conquer their \n",
      "Predicted headline:  the the the the the the the the the the the the the the the the the the the the the\n",
      "\n",
      "\n",
      "Original headline: reading in the \n",
      "Predicted headline:  the best best the the the best\n",
      "\n",
      "\n",
      "Original headline: rooney and united in shootout to advance \n",
      "Predicted headline:  the the the the the the the the the the the the the the the the the the the the the\n",
      "\n",
      "\n",
      "Original headline: google turns over of on \n",
      "Predicted headline:  the the the the the the the the the the the the the the the the the the the the the\n",
      "\n",
      "\n",
      "Original headline: is of the fashion and art \n",
      "Predicted headline:  the the the the the the the the the the the the the the the the the the the the the\n",
      "\n",
      "\n",
      "Original headline: clint retires atop the american record books \n",
      "Predicted headline:  the best best the the the open\n",
      "\n",
      "\n",
      "Original headline: allen amazon over canceled million deal \n",
      "Predicted headline:  what on tv tv tv the the sox and the sox of the open\n",
      "\n",
      "\n",
      "Original headline: books that take us inside the lives of britain \n",
      "Predicted headline:  the the the the the the the the the the the the the the the the the the the the the\n",
      "\n",
      "\n",
      "Original headline: and his father never meant to make movie together \n",
      "Predicted headline:  the the the the the the the the the the the the the the the the the the the the the\n",
      "\n",
      "\n",
      "Original headline: brewers reliever dodgers ace with homer in an game win \n",
      "Predicted headline:  the the the the the the the the the the the the the the the the the the the the the\n",
      "\n",
      "\n",
      "Original headline: at open powers that be hold off powers that will be \n",
      "Predicted headline:  what on tv tv tv the the sox and the sox of the open\n",
      "\n",
      "\n",
      "Original headline: in these new john finds poetry in the at hand \n",
      "Predicted headline:  the best best the the open\n",
      "\n",
      "\n",
      "Original headline: penny marshall movie and tv moments \n",
      "Predicted headline:  the the the the the the the the the the the the the the the the the the the the the\n",
      "\n",
      "\n",
      "Original headline: in year of the homer single is the dodgers biggest hit \n",
      "Predicted headline:  the the the the the the the the the the the the the the the the the the the the the\n",
      "\n",
      "\n"
     ]
    }
   ],
   "source": [
    "for i in range(30):\n",
    "  #print(\"News:\",seq2text(x_test[i]))\n",
    "  print(\"Original headline:\",seq2summary(y_test[i]))\n",
    "  print(\"Predicted headline:\",decode_sequence(x_test[i].reshape(1,max_text_length)))\n",
    "  print(\"\\n\")"
   ]
  }
 ],
 "metadata": {
  "kernelspec": {
   "display_name": "Python 3",
   "language": "python",
   "name": "python3"
  },
  "language_info": {
   "codemirror_mode": {
    "name": "ipython",
    "version": 3
   },
   "file_extension": ".py",
   "mimetype": "text/x-python",
   "name": "python",
   "nbconvert_exporter": "python",
   "pygments_lexer": "ipython3",
   "version": "3.7.3"
  }
 },
 "nbformat": 4,
 "nbformat_minor": 4
}
